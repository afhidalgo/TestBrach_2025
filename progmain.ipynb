{
 "cells": [
  {
   "cell_type": "code",
   "execution_count": null,
   "metadata": {},
   "outputs": [],
   "source": [
    "def sumaA (a: int, b: int):\n",
    "    c = a + b\n",
    "    return c\n",
    "\n",
    "def restaB (a: int, b: int):\n",
    "    c = a - b\n",
    "    return c\n",
    "\n",
    "def main():\n",
    "    a = 5\n",
    "    b = 6\n",
    "\n",
    "    c1 = sumaA(a, b)\n",
    "    print(f\"la suma de a + b es: {c1}\")\n",
    "\n",
    "    a = 7\n",
    "\n",
    "    c2 = restaB(a, b)\n",
    "    print(f\"la resta a - b es: {c1}\")\n",
    "\n",
    "\n",
<<<<<<< HEAD
    "    c3 = 2*c2\n",
    "    print(f\"c3 es :{c3}\")\n",
    "\n",
    "    c4 = 2*c1 + c2\n",
    "    print(f\"El valor de c4 es: {c4}\")\n",
=======
    "    print(f\"El triple de c2 es : {3*c2}\")\n",
    "\n",
    "    print(f\"a suma de 2*c1 + c2 es : {2*c1 + c2}\")\n",
>>>>>>> 8e8f7c0ed326eee340da4cb5b309dc26b681c195
    "\n",
    "if __name__ == \"__main__\":\n",
    "    main()"
   ]
  },
  {
   "cell_type": "code",
   "execution_count": null,
   "metadata": {},
   "outputs": [],
   "source": []
  }
 ],
 "metadata": {
  "language_info": {
   "name": "python"
  }
 },
 "nbformat": 4,
 "nbformat_minor": 2
}
