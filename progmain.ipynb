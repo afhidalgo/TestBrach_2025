{
 "cells": [
  {
   "cell_type": "code",
   "execution_count": null,
   "metadata": {},
   "outputs": [],
   "source": [
    "def sumaA (a: int, b: int):\n",
    "    c = a + b\n",
    "    return c\n",
    "\n",
    "\n",
    "\n",
    "def main():\n",
    "    a = 5\n",
    "    b = 6\n",
    "\n",
    "    c = sumaA(a, b)\n",
    "    print(f\"la suma de a + b es: {c}\")"
   ]
  },
  {
   "cell_type": "code",
   "execution_count": null,
   "metadata": {},
   "outputs": [],
   "source": []
  }
 ],
 "metadata": {
  "language_info": {
   "name": "python"
  }
 },
 "nbformat": 4,
 "nbformat_minor": 2
}
