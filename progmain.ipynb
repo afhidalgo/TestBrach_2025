{
 "cells": [
  {
   "cell_type": "code",
   "execution_count": null,
   "metadata": {},
   "outputs": [],
   "source": [
    "def sumaA (a: int, b: int):\n",
    "    c = a + b\n",
    "    return c\n",
    "\n",
    "def restaB (a: int, b: int):\n",
    "    c = a - b\n",
    "    return c\n",
    "\n",
    "def main():\n",
    "    x = 5\n",
    "    y = 6\n",
    "\n",
    "    c1 = sumaA(x, y)\n",
    "    print(f\"la suma de a + b es: {c1}\")\n",
    "\n",
    "    x = 7\n",
    "\n",
    "    c = restaB(x, y)\n",
    "    print(f\"la resta a - b es: {c}\")\n",
    "\n",
    "    print(f\"El doble de c1 es: {c1}\")\n",
    "\n",
    "if __name__ == \"__main__\":\n",
    "    main()"
   ]
  },
  {
   "cell_type": "code",
   "execution_count": null,
   "metadata": {},
   "outputs": [],
   "source": []
  }
 ],
 "metadata": {
  "language_info": {
   "name": "python"
  }
 },
 "nbformat": 4,
 "nbformat_minor": 2
}
